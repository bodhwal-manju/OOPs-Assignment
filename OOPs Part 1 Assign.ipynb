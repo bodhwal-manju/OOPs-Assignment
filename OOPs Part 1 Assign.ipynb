{
 "cells": [
  {
   "cell_type": "code",
   "execution_count": 5,
   "id": "50b95f99-9565-48e0-8a07-e30c3b3e1061",
   "metadata": {},
   "outputs": [
    {
     "data": {
      "text/plain": [
       "' Abstraction is one of the fundamental concepts in OOPs.It refers to the process of hiding\\nunnecessary implimentation details while exposing \\nonly the essential features of an object or system to the user\\nAbstraction Helps to simplify the complexity of a system by providing a high -level \\nview of its functionality.\\nit also promotes code reuseability and helps to make code more maintainable'"
      ]
     },
     "execution_count": 5,
     "metadata": {},
     "output_type": "execute_result"
    }
   ],
   "source": [
    "\"\"\" Abstraction is one of the fundamental concepts in OOPs.It refers to the process of hiding\n",
    "unnecessary implimentation details while exposing \n",
    "only the essential features of an object or system to the user\n",
    "Abstraction Helps to simplify the complexity of a system by providing a high -level \n",
    "view of its functionality.\n",
    "it also promotes code reuseability and helps to make code more maintainable\"\"\"\n",
    "\n",
    "\n",
    "\n",
    "        \n",
    "    "
   ]
  },
  {
   "cell_type": "code",
   "execution_count": 10,
   "id": "474db7a2-cced-4991-88ac-1eedfb85f626",
   "metadata": {},
   "outputs": [],
   "source": [
    "import abc\n",
    "class Car:\n",
    "    @abc.abstractmethod\n",
    "    def __init__(self,make ,model,year,color):  \n",
    "        self.make=make\n",
    "        self.model=model\n",
    "        self.year=year\n",
    "        self.color=color\n",
    "        self.speed=0\n",
    "    \n",
    "    @abc.abstractmethod\n",
    "    def brake(self,speed):\n",
    "        pass\n",
    "    def get_speed(self):\n",
    "        return self.speed\n",
    "    \n",
    "class Sedan(Car):\n",
    "    def accelerate(self,speed):\n",
    "        self.speed+=speed\n",
    "    def brake(self,speed):\n",
    "        self.speed -=speed"
   ]
  },
  {
   "cell_type": "code",
   "execution_count": 15,
   "id": "4ae5198c-b02b-438d-9b7a-fab97a6fc443",
   "metadata": {},
   "outputs": [
    {
     "name": "stdout",
     "output_type": "stream",
     "text": [
      "Current speed: 20\n"
     ]
    }
   ],
   "source": [
    "my_sedan=Sedan(\"Toyota\",\"Corolla\",2022,\"blue\")\n",
    "my_sedan.brake(10)\n",
    "my_sedan.accelerate(30)\n",
    "\n",
    "print(\"Current speed:\",my_sedan.get_speed())"
   ]
  },
  {
   "cell_type": "code",
   "execution_count": 16,
   "id": "9cb76958-f842-4e32-a4d9-3b03e4d3c1dd",
   "metadata": {},
   "outputs": [
    {
     "data": {
      "text/plain": [
       "'\\n1.Abstraction is hiding the details and implementation of the code.\\nEncapsulation is hiding the data and controlling the visibility of the code.\\n2.Abstraction is a design level process.\\nEncapsulation is an implementation level process.\\n3.Abstraction is concerned about what a class instance can do, instead of the implementation of the class.\\nEncapsulation helps in data binding and control over maintaining the transparency of the data.\\n4.Abstraction is a design level process and it is used to reduce the complexity at the designing stage of a project.\\nEncapsulation is an implementation level process, and it is used to provide privacy and maintain control over the transparency of data at the implementation stage of a project.\\n5.The prominent difference between Encapsulation and Abstraction lies in the focus. Abstraction mainly focuses on what must be done,\\nwhereas encapsulation mainly focuses on how it must be done.'"
      ]
     },
     "execution_count": 16,
     "metadata": {},
     "output_type": "execute_result"
    }
   ],
   "source": [
    "#2 question \n",
    "\"\"\"\n",
    "1.Abstraction is hiding the details and implementation of the code.\n",
    "Encapsulation is hiding the data and controlling the visibility of the code.\n",
    "2.Abstraction is a design level process.\n",
    "Encapsulation is an implementation level process.\n",
    "3.Abstraction is concerned about what a class instance can do, instead of the implementation of the class.\n",
    "Encapsulation helps in data binding and control over maintaining the transparency of the data.\n",
    "4.Abstraction is a design level process and it is used to reduce the complexity at the designing stage of a project.\n",
    "Encapsulation is an implementation level process, and it is used to provide privacy and maintain control over the transparency of data at the implementation stage of a project.\n",
    "5.The prominent difference between Encapsulation and Abstraction lies in the focus. Abstraction mainly focuses on what must be done,\n",
    "whereas encapsulation mainly focuses on how it must be done.\"\"\""
   ]
  },
  {
   "cell_type": "code",
   "execution_count": 21,
   "id": "e51a0b59-89c5-438f-9402-2df61e41c17f",
   "metadata": {},
   "outputs": [
    {
     "name": "stdout",
     "output_type": "stream",
     "text": [
      "Rectangle area: 50\n",
      "Rectangle perimeter: 30\n",
      "Circle area: 153.86\n",
      "Circle perimeter: 43.96\n"
     ]
    }
   ],
   "source": [
    "#ABSTRACTION EXAMPLE:\n",
    "import abc\n",
    "class shape:\n",
    "    @abc.abstractmethod\n",
    "    def area(self):\n",
    "        pass\n",
    "    @abc.abstractmethod\n",
    "    def perimeter(self):\n",
    "        pass\n",
    "    \n",
    "class Rectangle(shape):\n",
    "    def __init__(self,length,width):\n",
    "        self.length=length\n",
    "        self.width=width\n",
    "        \n",
    "    def area(self):\n",
    "        return self.length*self.width\n",
    "    def perimeter(self):\n",
    "        return 2*(self.length+self.width)\n",
    "    \n",
    "class Circle(shape):\n",
    "    def __init__(self,radius):\n",
    "        self.radius=radius\n",
    "    def area(self):\n",
    "        return 3.14*self.radius*self.radius\n",
    "    \n",
    "    def perimeter(self):\n",
    "        return 2*3.14*self.radius\n",
    "    \n",
    "my_rectangle=Rectangle(10,5)\n",
    "my_circle=Circle(7)\n",
    "\n",
    "print(\"Rectangle area:\", my_rectangle.area())\n",
    "print(\"Rectangle perimeter:\",my_rectangle.perimeter())\n",
    "print(\"Circle area:\",my_circle.area())\n",
    "print(\"Circle perimeter:\",my_circle.perimeter())"
   ]
  },
  {
   "cell_type": "code",
   "execution_count": 24,
   "id": "d6133414-67e4-484e-9311-5bb97306d6bc",
   "metadata": {},
   "outputs": [
    {
     "name": "stdout",
     "output_type": "stream",
     "text": [
      "Toyota\n",
      "Corolla\n",
      "2022\n",
      "fuel pump is working\n",
      "Engine started\n",
      "2023\n"
     ]
    }
   ],
   "source": [
    "#Encapsulation\n",
    "class Car:\n",
    "    def __init__(self,make,model,year):\n",
    "            self.__make=make\n",
    "            self.__model=model\n",
    "            self.__year=year\n",
    "        \n",
    "    def start(self):\n",
    "        self._fuel_pump()\n",
    "        print(\"Engine started\")\n",
    "        \n",
    "    def _fuel_pump(self):\n",
    "        print(\"fuel pump is working\")\n",
    "        \n",
    "    def get_make(self):\n",
    "        return self.__make\n",
    "    \n",
    "    def get_model(self):\n",
    "        return self.__model\n",
    "    \n",
    "    def get_year(self):\n",
    "        return self.__year\n",
    "    \n",
    "    def set_year(self,year):\n",
    "        self.__year=year\n",
    "        \n",
    "my_car=Car(\"Toyota\",\"Corolla\",2022)\n",
    "print(my_car.get_make())\n",
    "print(my_car.get_model())\n",
    "print(my_car.get_year())\n",
    "\n",
    "my_car.start()\n",
    "\n",
    "my_car.set_year(2023)\n",
    "print(my_car.get_year())\n",
    "        "
   ]
  },
  {
   "cell_type": "code",
   "execution_count": 4,
   "id": "32588dc8-b07f-4148-adf9-469639b04f7d",
   "metadata": {},
   "outputs": [
    {
     "data": {
      "text/plain": [
       "'In Python, the abc module provides support for abstract base classes, which are classes that are meant to be inherited from but not instantiated. \\nAbstract base classes are useful for defining interfaces that must be implemented by their subclasses.\\nThe abc module is used to define and work with abstract base classes in Python. \\nIt provides the ABC class, which can be used as a base class for defining abstract base classes. \\nThe ABC class itself is an abstract class, which means that it cannot be instantiated directly.\\nHere are some of the key features and use cases of the abc module in Python:\\nAbstract methods: \\nAbstract base classes can define abstract methods, which are methods that have no implementation but\\nmust be implemented by their subclasses. Abstract methods are defined using the @abstractmethod decorator, which is provided by the abc module.\\nAny subclass of an abstract base class that does not implement all of its abstract methods will itself be considered abstract and cannot be instantiated.\\nInterface enforcement:\\nAbstract base classes can be used to define\\ninterfaces that must be implemented by their subclasses. By defining the interface in an abstract base class, we can ensure that any class that \\nclaims to implement the interface actually provides the required methods.\\nPolymorphism:\\nAbstract base classes can be used to enable polymorphism,\\nwhich allows us to treat objects of different classes as if they are of the same type, as long as they implement the same interface. \\nThis can simplify code and promote code reuse\\n\\nOverall, data abstraction is achieved by hiding implementation details and providing a\\nsimplified interface for the user. By encapsulating\\nthe implementation inside the \\nclass and using access modifiers and getter/setter \\nmethods to control access to the data, we can achieve data abstraction\\nand promote code maintainability and reusability.\\n\\n\\n\\n'"
      ]
     },
     "execution_count": 4,
     "metadata": {},
     "output_type": "execute_result"
    }
   ],
   "source": [
    "\"\"\"In Python, the abc module provides support for abstract base classes, which are classes that are meant to be inherited from but not instantiated. \n",
    "Abstract base classes are useful for defining interfaces that must be implemented by their subclasses.\n",
    "The abc module is used to define and work with abstract base classes in Python. \n",
    "It provides the ABC class, which can be used as a base class for defining abstract base classes. \n",
    "The ABC class itself is an abstract class, which means that it cannot be instantiated directly.\n",
    "Here are some of the key features and use cases of the abc module in Python:\n",
    "Abstract methods: \n",
    "Abstract base classes can define abstract methods, which are methods that have no implementation but\n",
    "must be implemented by their subclasses. Abstract methods are defined using the @abstractmethod decorator, which is provided by the abc module.\n",
    "Any subclass of an abstract base class that does not implement all of its abstract methods will itself be considered abstract and cannot be instantiated.\n",
    "Interface enforcement:\n",
    "Abstract base classes can be used to define\n",
    "interfaces that must be implemented by their subclasses. By defining the interface in an abstract base class, we can ensure that any class that \n",
    "claims to implement the interface actually provides the required methods.\n",
    "Polymorphism:\n",
    "Abstract base classes can be used to enable polymorphism,\n",
    "which allows us to treat objects of different classes as if they are of the same type, as long as they implement the same interface. \n",
    "This can simplify code and promote code reuse\n",
    "\n",
    "Overall, data abstraction is achieved by hiding implementation details and providing a\n",
    "simplified interface for the user. By encapsulating\n",
    "the implementation inside the \n",
    "class and using access modifiers and getter/setter \n",
    "methods to control access to the data, we can achieve data abstraction\n",
    "and promote code maintainability and reusability.\n",
    "\n",
    "\n",
    "\n",
    "\"\"\""
   ]
  },
  {
   "cell_type": "code",
   "execution_count": 3,
   "id": "b85b5a7b-bda0-4439-9eba-442149d3d819",
   "metadata": {},
   "outputs": [
    {
     "data": {
      "text/plain": [
       "\"In object-oriented programming, data abstraction is achieved through the use of classes and objects.\\nAbstraction is the process of hiding implementation details and providing only the necessary information to the user. \\nHere are some ways in which we can achieve data abstraction:\\n1.Using classes and objects: We can define a class with private attributes and public methods. \\nPrivate attributes are not accessible outside the class, while public methods provide a way to interact with the class and its private attributes.\\nBy encapsulating the implementation details inside the class, we can achieve data abstraction.\\n2.Using abstract classes and interfaces: Abstract classes and interfaces are used to define a blueprint for a group of related classes.\\nAn abstract class can contain both concrete and abstract methods, while an interface contains only abstract methods. \\nBy defining abstract classes and interfaces, we can enforce a common interface for a group of related classes, which can promote code reuse\\nand simplify code maintenance.\\n3.Using access modifiers: In some programming languages, such as Java, we can use access modifiers such as public, \\nprivate, and protected to restrict access to class members. By making certain members private, we can ensure that they are \\nnot accessible outside the class, which helps to achieve data abstraction.\\n4.Using getter and setter methods: Getter and setter methods are used to provide access to private attributes in a controlled way. \\nBy using getter and setter methods, we can ensure that the implementation details of the class are hidden from the user\\n, while still allowing them to interact with the class's data\""
      ]
     },
     "execution_count": 3,
     "metadata": {},
     "output_type": "execute_result"
    }
   ],
   "source": [
    "\"\"\"In object-oriented programming, data abstraction is achieved through the use of classes and objects.\n",
    "Abstraction is the process of hiding implementation details and providing only the necessary information to the user. \n",
    "Here are some ways in which we can achieve data abstraction:\n",
    "1.Using classes and objects: We can define a class with private attributes and public methods. \n",
    "Private attributes are not accessible outside the class, while public methods provide a way to interact with the class and its private attributes.\n",
    "By encapsulating the implementation details inside the class, we can achieve data abstraction.\n",
    "2.Using abstract classes and interfaces: Abstract classes and interfaces are used to define a blueprint for a group of related classes.\n",
    "An abstract class can contain both concrete and abstract methods, while an interface contains only abstract methods. \n",
    "By defining abstract classes and interfaces, we can enforce a common interface for a group of related classes, which can promote code reuse\n",
    "and simplify code maintenance.\n",
    "3.Using access modifiers: In some programming languages, such as Java, we can use access modifiers such as public, \n",
    "private, and protected to restrict access to class members. By making certain members private, we can ensure that they are \n",
    "not accessible outside the class, which helps to achieve data abstraction.\n",
    "4.Using getter and setter methods: Getter and setter methods are used to provide access to private attributes in a controlled way. \n",
    "By using getter and setter methods, we can ensure that the implementation details of the class are hidden from the user\n",
    ", while still allowing them to interact with the class's data\"\"\""
   ]
  },
  {
   "cell_type": "code",
   "execution_count": 5,
   "id": "a3191654-0535-4089-90fb-1a329533232f",
   "metadata": {},
   "outputs": [
    {
     "data": {
      "text/plain": [
       "'No, we cannot create an instance of an abstract class directly in Python. \\nAn abstract class is a class that is meant to be subclassed, but not instantiated directly.\\nThis is because an abstract class contains one or more abstract methods that do not have any implementation. \\nThe purpose of an abstract class is to define a common interface that its subclasses must implement.'"
      ]
     },
     "execution_count": 5,
     "metadata": {},
     "output_type": "execute_result"
    }
   ],
   "source": [
    "\"\"\"No, we cannot create an instance of an abstract class directly in Python. \n",
    "An abstract class is a class that is meant to be subclassed, but not instantiated directly.\n",
    "This is because an abstract class contains one or more abstract methods that do not have any implementation. \n",
    "The purpose of an abstract class is to define a common interface that its subclasses must implement.\"\"\""
   ]
  },
  {
   "cell_type": "code",
   "execution_count": 9,
   "id": "5824864a-b622-40d8-bde9-b764fb5d2240",
   "metadata": {},
   "outputs": [],
   "source": [
    "#for example:-\n",
    "\n",
    "import abc\n",
    "class Shape:\n",
    "    @abc.abstractmethod\n",
    "    def area(self):\n",
    "        pass\n",
    "\n",
    "class square(Shape):\n",
    "    def __init__(self,side):\n",
    "        self.side=side\n",
    "        \n",
    "    def area(self):\n",
    "        return self.side*self.side\n",
    "    \n",
    "s=Shape()    \n",
    "    \n",
    "    "
   ]
  },
  {
   "cell_type": "code",
   "execution_count": 8,
   "id": "f668d751-5382-42cb-85fd-e6d95331186d",
   "metadata": {},
   "outputs": [
    {
     "ename": "TypeError",
     "evalue": "Can't instantiate abstract class Shape with abstract method area",
     "output_type": "error",
     "traceback": [
      "\u001b[0;31m---------------------------------------------------------------------------\u001b[0m",
      "\u001b[0;31mTypeError\u001b[0m                                 Traceback (most recent call last)",
      "Cell \u001b[0;32mIn[8], line 15\u001b[0m\n\u001b[1;32m     12\u001b[0m     \u001b[38;5;28;01mdef\u001b[39;00m \u001b[38;5;21marea\u001b[39m(\u001b[38;5;28mself\u001b[39m):\n\u001b[1;32m     13\u001b[0m         \u001b[38;5;28;01mreturn\u001b[39;00m \u001b[38;5;28mself\u001b[39m\u001b[38;5;241m.\u001b[39mside \u001b[38;5;241m*\u001b[39m \u001b[38;5;28mself\u001b[39m\u001b[38;5;241m.\u001b[39mside\n\u001b[0;32m---> 15\u001b[0m s \u001b[38;5;241m=\u001b[39m \u001b[43mShape\u001b[49m\u001b[43m(\u001b[49m\u001b[43m)\u001b[49m \u001b[38;5;66;03m# TypeError: Can't instantiate abstract class Shape with abstract methods area\u001b[39;00m\n",
      "\u001b[0;31mTypeError\u001b[0m: Can't instantiate abstract class Shape with abstract method area"
     ]
    }
   ],
   "source": [
    "from abc import ABC, abstractmethod\n",
    "\n",
    "class Shape(ABC):\n",
    "    @abstractmethod\n",
    "    def area(self):\n",
    "        pass\n",
    "\n",
    "class Square(Shape):\n",
    "    def __init__(self, side):\n",
    "        self.side = side\n",
    "\n",
    "    def area(self):\n",
    "        return self.side * self.side\n",
    "\n",
    "s = Shape() # TypeError: Can't instantiate abstract class Shape with abstract methods area\n"
   ]
  },
  {
   "cell_type": "code",
   "execution_count": null,
   "id": "c94a3373-7d8a-4f8a-bc2f-4095440b139d",
   "metadata": {},
   "outputs": [],
   "source": []
  }
 ],
 "metadata": {
  "kernelspec": {
   "display_name": "Python 3 (ipykernel)",
   "language": "python",
   "name": "python3"
  },
  "language_info": {
   "codemirror_mode": {
    "name": "ipython",
    "version": 3
   },
   "file_extension": ".py",
   "mimetype": "text/x-python",
   "name": "python",
   "nbconvert_exporter": "python",
   "pygments_lexer": "ipython3",
   "version": "3.10.8"
  }
 },
 "nbformat": 4,
 "nbformat_minor": 5
}
