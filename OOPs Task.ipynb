{
 "cells": [
  {
   "cell_type": "code",
   "execution_count": 6,
   "id": "a4a0c402-36d0-45f7-9ecf-29d11a433dfa",
   "metadata": {},
   "outputs": [
    {
     "name": "stdout",
     "output_type": "stream",
     "text": [
      "Car\n",
      "80\n",
      "40\n"
     ]
    }
   ],
   "source": [
    "class vehicle:\n",
    "    def __init__(self,name_of_vehicle,max_speed,average_of_vehicle):\n",
    "        self.name_of_vehicle=name_of_vehicle\n",
    "        self.max_speed=max_speed\n",
    "        self.average_of_vehicle=average_of_vehicle\n",
    "        \n",
    "    def get_name_of_vehicle(self):\n",
    "        return self.name_of_vehicle\n",
    "    \n",
    "    def get_max_speed(self):\n",
    "        return self.max_speed\n",
    "    \n",
    "    def get_average_of_vehicle(self):\n",
    "        return self.average_of_vehicle\n",
    "        \n",
    "    \n",
    "my_vehicle=vehicle(\"Car\",80,40)\n",
    "print(my_vehicle.get_name_of_vehicle())\n",
    "print(my_vehicle.get_max_speed())\n",
    "print(my_vehicle.get_average_of_vehicle())\n",
    "        \n",
    "        "
   ]
  },
  {
   "cell_type": "code",
   "execution_count": 14,
   "id": "dba7a373-c764-48a3-b0ef-514b365b0b02",
   "metadata": {},
   "outputs": [
    {
     "name": "stdout",
     "output_type": "stream",
     "text": [
      "Toyota has a seating capacity of 5 people.\n"
     ]
    }
   ],
   "source": [
    "class Car(vehicle):\n",
    "    def seating_capacity(self,capacity):\n",
    "        return f\"{self.name_of_vehicle} has a seating capacity of {capacity} people.\"\n",
    "my_car=Car(\"Toyota\",120,35)\n",
    "print(my_car.seating_capacity(5))\n",
    "    "
   ]
  },
  {
   "cell_type": "code",
   "execution_count": 15,
   "id": "4f930c0e-47d1-436d-b72b-fd99354aaf56",
   "metadata": {},
   "outputs": [
    {
     "data": {
      "text/plain": [
       "'Multiple inheritance is a feature of object-oriented programming languages that allows a class to inherit properties and methods from more than one parent class. In multiple inheritance, a subclass can inherit from multiple base classes, which can be useful in situations where a subclass needs to combine the functionality of multiple classes.'"
      ]
     },
     "execution_count": 15,
     "metadata": {},
     "output_type": "execute_result"
    }
   ],
   "source": [
    "\"\"\"Multiple inheritance is a feature of object-oriented programming languages that allows a class to inherit properties and methods from more than one parent class. In multiple inheritance, a subclass can inherit from multiple base classes, which can be useful in situations where a subclass needs to combine the functionality of multiple classes.\"\"\""
   ]
  },
  {
   "cell_type": "code",
   "execution_count": 2,
   "id": "abe9ab21-be49-49e6-bdad-1dbdeec49997",
   "metadata": {},
   "outputs": [
    {
     "name": "stdout",
     "output_type": "stream",
     "text": [
      "8\n"
     ]
    }
   ],
   "source": [
    "#for example\n",
    "\n",
    "class Car:\n",
    "    def __init__(self,num_seats,top_speed):\n",
    "        self.num_seats=num_seats\n",
    "        self.top_speed=top_speed\n",
    "        \n",
    "class ElectricVehicle:\n",
    "    def __init__(self,battery_life,charging_time):\n",
    "        self.battery_life=battery_life\n",
    "        self.charging_time=charging_time\n",
    "        \n",
    "class ElectricCar(Car,ElectricVehicle):\n",
    "    def __init__(self, num_seats, top_speed, battery_life, charging_time):\n",
    "        Car.__init__(self, num_seats, top_speed)\n",
    "        ElectricVehicle.__init__(self, battery_life, charging_time)\n",
    "\n",
    "\n",
    "my_electric_car=ElectricCar(4,100,8,2)\n",
    "print(my_electric_car.battery_life)"
   ]
  },
  {
   "cell_type": "code",
   "execution_count": 3,
   "id": "ce0f6789-3998-4631-95bb-9cb898a3c917",
   "metadata": {},
   "outputs": [
    {
     "data": {
      "text/plain": [
       "' In Python, getter and setter methods are used to control the access to class attributes. They are also known as accessor and mutator methods, respectively. Getter methods allow you to access the value of a private attribute outside the class, while setter methods allow you to modify the value of a private attribute outside the class.'"
      ]
     },
     "execution_count": 3,
     "metadata": {},
     "output_type": "execute_result"
    }
   ],
   "source": [
    "\"\"\" In Python, getter and setter methods are used to control the access to class attributes. They are also known as accessor and mutator methods, respectively. Getter methods allow you to access the value of a private attribute outside the class, while setter methods allow you to modify the value of a private attribute outside the class.\"\"\""
   ]
  },
  {
   "cell_type": "code",
   "execution_count": 6,
   "id": "d22dd68e-bc5c-462b-8a53-cd4763c0e97c",
   "metadata": {},
   "outputs": [],
   "source": [
    "#for example\n",
    "class MyClass:\n",
    "    def __init__(self):\n",
    "        self.__my_attribute=None\n",
    "        \n",
    "    def get_my_attribute(self):\n",
    "        return self.__my_attribute\n",
    "    def set_my_attribute(self,value):\n",
    "        self.__my_attribute=value\n"
   ]
  },
  {
   "cell_type": "code",
   "execution_count": 7,
   "id": "f5e3fe5c-c41e-4614-8627-501e530fde53",
   "metadata": {},
   "outputs": [
    {
     "name": "stdout",
     "output_type": "stream",
     "text": [
      "Hello,Baba\n"
     ]
    }
   ],
   "source": [
    "my_object=MyClass()\n",
    "my_object.set_my_attribute(\"Hello,Baba\")\n",
    "print(my_object.get_my_attribute())"
   ]
  },
  {
   "cell_type": "code",
   "execution_count": 9,
   "id": "a95554c2-5f2f-4c60-b499-f75ac9b303ee",
   "metadata": {},
   "outputs": [
    {
     "data": {
      "text/plain": [
       "'Method overriding is a concept in object-oriented programming where a subclass provides its own implementation of a method that is already defined in its superclass. This allows the subclass to modify the behavior of the method without changing its name or signature.'"
      ]
     },
     "execution_count": 9,
     "metadata": {},
     "output_type": "execute_result"
    }
   ],
   "source": [
    "\"\"\"Method overriding is a concept in object-oriented programming where a subclass provides its own implementation of a method that is already defined in its superclass. This allows the subclass to modify the behavior of the method without changing its name or signature.\"\"\""
   ]
  },
  {
   "cell_type": "code",
   "execution_count": null,
   "id": "794559fc-8ba9-4aa9-ae1a-87c8d1927db6",
   "metadata": {},
   "outputs": [],
   "source": [
    "#for example\n",
    "class Vehicle:\n",
    "    def accelerate(self):\n",
    "        print(\"Vehicle is accelerating....\")\n",
    "        \n",
    "class Car(Vehicle):\n",
    "    def accelerate(self):\n",
    "        print(\"Car is accelerating....\")\n",
    "        \n",
    "my_vehicle=Vehicle()\n",
    "my_car="
   ]
  }
 ],
 "metadata": {
  "kernelspec": {
   "display_name": "Python 3 (ipykernel)",
   "language": "python",
   "name": "python3"
  },
  "language_info": {
   "codemirror_mode": {
    "name": "ipython",
    "version": 3
   },
   "file_extension": ".py",
   "mimetype": "text/x-python",
   "name": "python",
   "nbconvert_exporter": "python",
   "pygments_lexer": "ipython3",
   "version": "3.10.8"
  }
 },
 "nbformat": 4,
 "nbformat_minor": 5
}
